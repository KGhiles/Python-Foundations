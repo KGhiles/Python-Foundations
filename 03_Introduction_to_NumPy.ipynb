{
 "cells": [
  {
   "cell_type": "markdown",
   "id": "cd60789e",
   "metadata": {},
   "source": [
    "# Numerical Data in Python\n",
    "\n",
    "*2 hours*\n",
    "\n",
    "**Contents:**\n",
    "\n",
    "- Introducing NumPy\n",
    "- Working with NumPy Arrays\n",
    "- Calculations on NumPy Arrays\n",
    "- Sorting and Filtering Arrays\n",
    "- Reshaping Arrays\n",
    "- Plotting with `matplotlib`"
   ]
  },
  {
   "cell_type": "markdown",
   "id": "a05a0343",
   "metadata": {},
   "source": [
    "---\n",
    "\n",
    "## Introducting NumPy"
   ]
  },
  {
   "cell_type": "markdown",
   "id": "1b6a8f47",
   "metadata": {},
   "source": [
    "So far, we've been working with built-in Python data structures and functions. We've loaded data from some text files and worked with sequences of numbers. But most scientific datasets have more *structure* than we're able to represent with a CSV file. Many are also large enough that a CSV file isn't the best format to use.\n",
    "\n",
    "Today, we'll introduce a powerful and widely used Python extension that is essential for working with numerical data. NumPy has been around for over 20 years and thousands of users have contributed code to the library. It's no exaggeration to say that NumPy is probably the most important Python library ever developed, as countless other libraries are built on top of NumPy."
   ]
  },
  {
   "cell_type": "code",
   "execution_count": 1,
   "id": "4f6826dc",
   "metadata": {},
   "outputs": [],
   "source": [
    "import numpy as np"
   ]
  },
  {
   "cell_type": "markdown",
   "id": "24f35075",
   "metadata": {},
   "source": [
    "It's a strong convention to abbreviate the name of `numpy` to `np`.\n",
    "\n",
    "**The key component of `numpy` is the `numpy.ndarray` data type,** or $n$-dimensional array."
   ]
  },
  {
   "cell_type": "code",
   "execution_count": 2,
   "id": "d91336ff",
   "metadata": {},
   "outputs": [
    {
     "data": {
      "text/plain": [
       "array([1, 2, 3])"
      ]
     },
     "execution_count": 2,
     "metadata": {},
     "output_type": "execute_result"
    }
   ],
   "source": [
    "arr = np.array([1, 2, 3])\n",
    "arr"
   ]
  },
  {
   "cell_type": "markdown",
   "id": "db181a1e",
   "metadata": {},
   "source": [
    "If we compare the `ndarray` to the most similar built-in data structure, the `list`, we'll see some important differences."
   ]
  },
  {
   "cell_type": "code",
   "execution_count": 3,
   "id": "9c5523b5",
   "metadata": {},
   "outputs": [
    {
     "data": {
      "text/plain": [
       "array([1, 1, 3])"
      ]
     },
     "execution_count": 3,
     "metadata": {},
     "output_type": "execute_result"
    }
   ],
   "source": [
    "np.array([1, True, 3])"
   ]
  },
  {
   "cell_type": "markdown",
   "id": "ef30509b",
   "metadata": {},
   "source": [
    "**First, unlike lists, `numpy` arrays can only hold one type of data.** There are multiple data types to choose from and every array has an explicitly defined type."
   ]
  },
  {
   "cell_type": "code",
   "execution_count": 4,
   "id": "8f81390f",
   "metadata": {},
   "outputs": [
    {
     "data": {
      "text/plain": [
       "dtype('int64')"
      ]
     },
     "execution_count": 4,
     "metadata": {},
     "output_type": "execute_result"
    }
   ],
   "source": [
    "arr.dtype"
   ]
  },
  {
   "cell_type": "code",
   "execution_count": 5,
   "id": "b4350166",
   "metadata": {},
   "outputs": [
    {
     "data": {
      "text/plain": [
       "dtype('float64')"
      ]
     },
     "execution_count": 5,
     "metadata": {},
     "output_type": "execute_result"
    }
   ],
   "source": [
    "np.array([3.14, 2.1]).dtype"
   ]
  },
  {
   "cell_type": "markdown",
   "id": "9c65814d",
   "metadata": {},
   "source": [
    "**Second, a `numpy` array can have multiple dimensions, or axes,** whereas a `list` can only contain nested lists, which is a confusing way to try and represent more than one dimension."
   ]
  },
  {
   "cell_type": "code",
   "execution_count": 6,
   "id": "34baf338",
   "metadata": {},
   "outputs": [
    {
     "data": {
      "text/plain": [
       "[[42.0, 45.5], [-118.1, -118.2]]"
      ]
     },
     "execution_count": 6,
     "metadata": {},
     "output_type": "execute_result"
    }
   ],
   "source": [
    "xy = [[42.0, 45.5], [-118.1, -118.2]]\n",
    "xy"
   ]
  },
  {
   "cell_type": "code",
   "execution_count": 7,
   "id": "52011535",
   "metadata": {},
   "outputs": [
    {
     "data": {
      "text/plain": [
       "array([[  42. ,   45.5],\n",
       "       [-118.1, -118.2]])"
      ]
     },
     "execution_count": 7,
     "metadata": {},
     "output_type": "execute_result"
    }
   ],
   "source": [
    "arr = np.array(xy)\n",
    "arr"
   ]
  },
  {
   "cell_type": "markdown",
   "id": "9d5ccc11",
   "metadata": {},
   "source": [
    "We can index a `numpy` array just like other sequences. We'll learn more about this in a moment."
   ]
  },
  {
   "cell_type": "code",
   "execution_count": 8,
   "id": "1216720f",
   "metadata": {},
   "outputs": [
    {
     "data": {
      "text/plain": [
       "array([42. , 45.5])"
      ]
     },
     "execution_count": 8,
     "metadata": {},
     "output_type": "execute_result"
    }
   ],
   "source": [
    "arr[0]"
   ]
  },
  {
   "cell_type": "markdown",
   "id": "562de85b",
   "metadata": {},
   "source": [
    "In this example, it might make more sense to have the latitudes and longitudes in separate columns (instead of in rows). We can get a *transposed* copy of the array by typing:"
   ]
  },
  {
   "cell_type": "code",
   "execution_count": 9,
   "id": "e126cd5a",
   "metadata": {},
   "outputs": [
    {
     "data": {
      "text/plain": [
       "array([[  42. , -118.1],\n",
       "       [  45.5, -118.2]])"
      ]
     },
     "execution_count": 9,
     "metadata": {},
     "output_type": "execute_result"
    }
   ],
   "source": [
    "arr.T"
   ]
  },
  {
   "cell_type": "code",
   "execution_count": 10,
   "id": "55da5d76",
   "metadata": {},
   "outputs": [
    {
     "data": {
      "text/plain": [
       "2"
      ]
     },
     "execution_count": 10,
     "metadata": {},
     "output_type": "execute_result"
    }
   ],
   "source": [
    "arr.ndim"
   ]
  },
  {
   "cell_type": "code",
   "execution_count": 11,
   "id": "02fb81ef",
   "metadata": {},
   "outputs": [
    {
     "data": {
      "text/plain": [
       "(2, 2)"
      ]
     },
     "execution_count": 11,
     "metadata": {},
     "output_type": "execute_result"
    }
   ],
   "source": [
    "arr.shape"
   ]
  },
  {
   "cell_type": "markdown",
   "id": "732abece",
   "metadata": {},
   "source": [
    "You may be tempted to ask how many elements are in a `numpy` array..."
   ]
  },
  {
   "cell_type": "code",
   "execution_count": 12,
   "id": "13de6821",
   "metadata": {},
   "outputs": [
    {
     "data": {
      "text/plain": [
       "2"
      ]
     },
     "execution_count": 12,
     "metadata": {},
     "output_type": "execute_result"
    }
   ],
   "source": [
    "# The WRONG way\n",
    "len(arr)"
   ]
  },
  {
   "cell_type": "code",
   "execution_count": 13,
   "id": "cbdfb5a3",
   "metadata": {},
   "outputs": [
    {
     "data": {
      "text/plain": [
       "4"
      ]
     },
     "execution_count": 13,
     "metadata": {},
     "output_type": "execute_result"
    }
   ],
   "source": [
    "# The correct way\n",
    "arr.size"
   ]
  },
  {
   "cell_type": "markdown",
   "id": "be67bb28",
   "metadata": {},
   "source": [
    "**Finally, operations on `numpy` arrays can be executed much more quickly and efficiently than on `lists`.** If you are working with numeric data of any size, you're much better off putting it in a `numpy` array than a `list` or `tuple`. This is especially true for very large datasets."
   ]
  },
  {
   "cell_type": "markdown",
   "id": "515836b8",
   "metadata": {},
   "source": [
    "---"
   ]
  },
  {
   "cell_type": "markdown",
   "id": "9dbda277",
   "metadata": {},
   "source": [
    "## Working with NumPy Arrays"
   ]
  },
  {
   "cell_type": "markdown",
   "id": "03fc3d96",
   "metadata": {},
   "source": [
    "For the rest of this lesson, we'll be working with [data on near-surface air temperatures from the NOAA Center for Climate Prediction (CPC).](http://iridl.ldeo.columbia.edu/SOURCES/.NOAA/.NCEP/.CPC/.GHCN_CAMS/.gridded/.deg0p5/index.html) \n",
    "\n",
    "Though the CPC has the word \"prediction\" in its name, it also performs what are called *re-analyses,* where historical climate data are reproduced by combining weather station data with computer models. Here, we use a re-analysis of the past 75 years of air temperatures across the globe.\n",
    "\n",
    "**I subset these data to the city of Algiers, Algeria.**"
   ]
  },
  {
   "cell_type": "code",
   "execution_count": 14,
   "id": "4c59d4c1",
   "metadata": {},
   "outputs": [],
   "source": [
    "import pandas as pd\n",
    "\n",
    "temps = pd.read_csv(\n",
    "    'http://files.ntsg.umt.edu/data/GIS_Programming/data/NOAA_NCEP_CPC_gridded_deg0p5_1948-2022_Algiers.txt',\n",
    "    header = None).to_numpy()"
   ]
  },
  {
   "cell_type": "markdown",
   "id": "7ade80c2",
   "metadata": {},
   "source": [
    "Again, a chief advantage of `numpy` arrays is their ability to represent multi-dimensional data. **What do we mean by multi-dimensional?**\n",
    "\n",
    "A collection of data values can be *structured* in multiple ways...\n",
    "\n",
    "- Time series data consist of values that is associated with a series of points in time.\n",
    "- Spatial data consist of values that are associated, usually, with a series of numbers that represent spatial coordinates.\n",
    "\n",
    "Imagine we're collecting soil samples along a 100-meter transect in a forest. For every soil sample measurement, we'll mark how far along the transect it was collected, from 0 to 100, indicating the distance from one end of the transect. If we collected data every 1 meter, we'd have 100 soil sample measurements. The numbers 0 to 100 then also represent a way of indexing those measurements. This is an example of one-dimensional data, structured by a single axis; in this case, distance.\n",
    "\n",
    "Now imagine we want to collect soil samples in a 100 m-by-100 m grid (100 square meters). In this case, we need two numbers to represent the location of each soil sample, so the data we collect will be 2-dimensional, with one axis representing the distance along one side of the grid and the other axis representing the distance along the other.\n",
    "\n",
    "**The NOAA CPC provides mean, monthly near-surface air temperatures each year. The shape of our multi-dimensional array is...**"
   ]
  },
  {
   "cell_type": "code",
   "execution_count": 15,
   "id": "8f4be5a5",
   "metadata": {},
   "outputs": [
    {
     "data": {
      "text/plain": [
       "(75, 12)"
      ]
     },
     "execution_count": 15,
     "metadata": {},
     "output_type": "execute_result"
    }
   ],
   "source": [
    "temps.shape"
   ]
  },
  {
   "cell_type": "markdown",
   "id": "9eca3d2e",
   "metadata": {},
   "source": [
    "**What do these two axes correspond to?**\n",
    "\n",
    "How can we get the first year of data?"
   ]
  },
  {
   "cell_type": "code",
   "execution_count": 16,
   "id": "1cd52722",
   "metadata": {},
   "outputs": [
    {
     "data": {
      "text/plain": [
       "array([11.57, 12.49, 14.56, 15.53, 17.34, 22.68, 25.26, 26.59, 24.2 ,\n",
       "       19.88, 16.43, 13.06])"
      ]
     },
     "execution_count": 16,
     "metadata": {},
     "output_type": "execute_result"
    }
   ],
   "source": [
    "temps[0]"
   ]
  },
  {
   "cell_type": "markdown",
   "id": "80096853",
   "metadata": {},
   "source": [
    "What about the first month of data?"
   ]
  },
  {
   "cell_type": "code",
   "execution_count": 17,
   "id": "eeb1355a",
   "metadata": {},
   "outputs": [
    {
     "data": {
      "text/plain": [
       "11.57"
      ]
     },
     "execution_count": 17,
     "metadata": {},
     "output_type": "execute_result"
    }
   ],
   "source": [
    "temps[0,0]"
   ]
  },
  {
   "cell_type": "markdown",
   "id": "6f0c06e5",
   "metadata": {},
   "source": [
    "When we index (2-dimensional) `numpy` arrays, remember that we count rows first and columns second. So, for example, if we want to get the month of January in every year..."
   ]
  },
  {
   "cell_type": "code",
   "execution_count": 18,
   "id": "17957db1",
   "metadata": {},
   "outputs": [
    {
     "data": {
      "text/plain": [
       "array([11.57, 11.91, 11.45, 11.33, 10.81,  9.43, 10.02, 13.92, 12.4 ,\n",
       "       10.12, 11.47, 12.81, 11.45, 11.48, 13.72, 12.7 , 12.56, 12.56,\n",
       "       14.21, 12.2 , 12.39, 13.71, 14.21, 12.62, 11.71, 12.61, 13.39,\n",
       "       12.45, 11.07, 12.86, 11.8 , 14.61, 11.16, 10.28, 12.51, 11.85,\n",
       "       11.85, 10.38, 11.66, 11.26, 13.22, 11.47, 12.85, 11.13, 10.91,\n",
       "       11.5 , 12.06, 12.06, 14.4 , 13.75, 13.11, 12.22, 10.66, 13.15,\n",
       "       12.51, 11.69, 12.74,  9.91, 10.89, 12.28, 12.7 , 11.83, 12.72,\n",
       "       12.43, 11.37, 12.5 , 12.53, 10.86, 13.56, 10.14, 12.11, 10.78,\n",
       "       11.29, 11.85, 11.3 ])"
      ]
     },
     "execution_count": 18,
     "metadata": {},
     "output_type": "execute_result"
    }
   ],
   "source": [
    "temps[:,0]"
   ]
  },
  {
   "cell_type": "markdown",
   "id": "846a3ecf",
   "metadata": {},
   "source": [
    "If we want just the first 5 years, we could write:"
   ]
  },
  {
   "cell_type": "code",
   "execution_count": 19,
   "id": "4ee1f00e",
   "metadata": {},
   "outputs": [
    {
     "data": {
      "text/plain": [
       "array([[11.57, 12.49, 14.56, 15.53, 17.34, 22.68, 25.26, 26.59, 24.2 ,\n",
       "        19.88, 16.43, 13.06],\n",
       "       [11.91, 12.1 , 12.87, 17.15, 17.71, 22.55, 25.94, 26.73, 25.75,\n",
       "        21.05, 16.08, 13.85],\n",
       "       [11.45, 13.21, 13.73, 15.12, 19.01, 23.41, 26.51, 26.54, 24.01,\n",
       "        19.78, 16.64, 12.07],\n",
       "       [11.33, 12.13, 14.6 , 15.88, 17.16, 22.87, 25.48, 26.35, 24.51,\n",
       "        18.4 , 16.19, 14.09],\n",
       "       [10.81, 11.41, 15.93, 16.24, 18.49, 25.02, 26.38, 26.95, 23.35,\n",
       "        21.24, 15.81, 12.74]])"
      ]
     },
     "execution_count": 19,
     "metadata": {},
     "output_type": "execute_result"
    }
   ],
   "source": [
    "temps[0:5]"
   ]
  },
  {
   "cell_type": "markdown",
   "id": "a4aee896",
   "metadata": {},
   "source": [
    "**The colon symbol, `:`, is the *slicing* operator.**\n",
    "\n",
    "Above, `temps[0:5]` can be read as \"Start at index 0 and go up to, *but not including,* index 5.\" Because Python starts counting at zero, we get 5 years of data; recall that index 5 would refer to the *sixth* year of data, in this example.\n",
    "\n",
    "When we use the slicing operator without any numbers, it means \"take everything\" on that axis. Hence, the following two examples are the same:"
   ]
  },
  {
   "cell_type": "code",
   "execution_count": 20,
   "id": "9e3056ea",
   "metadata": {},
   "outputs": [
    {
     "data": {
      "text/plain": [
       "array([11.57, 12.49, 14.56, 15.53, 17.34, 22.68, 25.26, 26.59, 24.2 ,\n",
       "       19.88, 16.43, 13.06])"
      ]
     },
     "execution_count": 20,
     "metadata": {},
     "output_type": "execute_result"
    }
   ],
   "source": [
    "temps[0,:]"
   ]
  },
  {
   "cell_type": "code",
   "execution_count": 21,
   "id": "37763395",
   "metadata": {},
   "outputs": [
    {
     "data": {
      "text/plain": [
       "array([11.57, 12.49, 14.56, 15.53, 17.34, 22.68, 25.26, 26.59, 24.2 ,\n",
       "       19.88, 16.43, 13.06])"
      ]
     },
     "execution_count": 21,
     "metadata": {},
     "output_type": "execute_result"
    }
   ],
   "source": [
    "temps[0]"
   ]
  },
  {
   "cell_type": "markdown",
   "id": "ddcbb547",
   "metadata": {},
   "source": [
    "Note that we can also use *negative indexing* in `numpy` arrays, just as with Python lists or tuples..."
   ]
  },
  {
   "cell_type": "code",
   "execution_count": 22,
   "id": "5252a251",
   "metadata": {},
   "outputs": [
    {
     "data": {
      "text/plain": [
       "array([11.3 , 13.39, 13.84, 15.58, 21.48, 26.6 , 29.11, 29.31, 26.29,\n",
       "       23.84, 17.8 , 15.75])"
      ]
     },
     "execution_count": 22,
     "metadata": {},
     "output_type": "execute_result"
    }
   ],
   "source": [
    "# The last year of temperature data\n",
    "temps[-1]"
   ]
  },
  {
   "cell_type": "code",
   "execution_count": 23,
   "id": "8b43a571",
   "metadata": {},
   "outputs": [
    {
     "data": {
      "text/plain": [
       "array([[11.29, 14.54, 14.8 , 16.57, 21.35, 23.78, 28.54, 28.97, 24.78,\n",
       "        19.79, 17.24, 12.85],\n",
       "       [11.85, 14.56, 14.17, 17.15, 21.14, 24.64, 28.5 , 29.39, 26.47,\n",
       "        21.24, 14.43, 13.64],\n",
       "       [11.3 , 13.39, 13.84, 15.58, 21.48, 26.6 , 29.11, 29.31, 26.29,\n",
       "        23.84, 17.8 , 15.75]])"
      ]
     },
     "execution_count": 23,
     "metadata": {},
     "output_type": "execute_result"
    }
   ],
   "source": [
    "# The last three years of temperature data\n",
    "temps[-3:]"
   ]
  },
  {
   "cell_type": "markdown",
   "id": "1017210d",
   "metadata": {},
   "source": [
    "Here are some other examples of indexing an array that has three rows and two columns:"
   ]
  },
  {
   "cell_type": "code",
   "execution_count": 24,
   "id": "a503762f",
   "metadata": {},
   "outputs": [
    {
     "data": {
      "text/plain": [
       "array([[1, 2],\n",
       "       [3, 4],\n",
       "       [5, 6]])"
      ]
     },
     "execution_count": 24,
     "metadata": {},
     "output_type": "execute_result"
    }
   ],
   "source": [
    "data = np.array([[1, 2], [3, 4], [5, 6]])\n",
    "data"
   ]
  },
  {
   "cell_type": "markdown",
   "id": "7f01c9b0",
   "metadata": {},
   "source": [
    "![](./assets/numpy-matrix-indexing.png)\n",
    "\n",
    "*Image is from a presentation by Mauricio Sevilla.*"
   ]
  },
  {
   "cell_type": "markdown",
   "id": "f2b7f1f4",
   "metadata": {},
   "source": [
    "---"
   ]
  },
  {
   "cell_type": "markdown",
   "id": "be53c109",
   "metadata": {},
   "source": [
    "### Challenge: Working with Multi-dimensional Arrays"
   ]
  },
  {
   "cell_type": "markdown",
   "id": "ab791618",
   "metadata": {},
   "source": [
    "1. What's the average July temperature in Algiers over the years?\n",
    "2. What was the minimum monthly temperature in 1979? Recall that the years of this data extend from 1948 through 2022."
   ]
  },
  {
   "cell_type": "markdown",
   "id": "8eb5567b",
   "metadata": {},
   "source": [
    "---"
   ]
  },
  {
   "cell_type": "markdown",
   "id": "b6538a72",
   "metadata": {},
   "source": [
    "## Calculations on NumPy Arrays"
   ]
  },
  {
   "cell_type": "markdown",
   "id": "223ae0a2",
   "metadata": {},
   "source": [
    "Because `numpy.ndarray` is an object, NumPy arrays know how to perform mathematical operations on themselves. This allows us to treat them like pure numbers!"
   ]
  },
  {
   "cell_type": "code",
   "execution_count": 25,
   "id": "e29e4ebd",
   "metadata": {},
   "outputs": [
    {
     "data": {
      "text/plain": [
       "array([284.72, 285.64, 287.71, 288.68, 290.49, 295.83, 298.41, 299.74,\n",
       "       297.35, 293.03, 289.58, 286.21])"
      ]
     },
     "execution_count": 25,
     "metadata": {},
     "output_type": "execute_result"
    }
   ],
   "source": [
    "# Convert temperatures from deg C to deg K\n",
    "temps_k = temps + 273.15\n",
    "temps_k[0]"
   ]
  },
  {
   "cell_type": "markdown",
   "id": "9f6f3c4a",
   "metadata": {},
   "source": [
    "**How can we calculate the average of the first two years of temperatures in this record?**"
   ]
  },
  {
   "cell_type": "code",
   "execution_count": 26,
   "id": "61c7959a",
   "metadata": {},
   "outputs": [
    {
     "data": {
      "text/plain": [
       "array([11.74 , 12.295, 13.715, 16.34 , 17.525, 22.615, 25.6  , 26.66 ,\n",
       "       24.975, 20.465, 16.255, 13.455])"
      ]
     },
     "execution_count": 26,
     "metadata": {},
     "output_type": "execute_result"
    }
   ],
   "source": [
    "(temps[0] + temps[1]) / 2"
   ]
  },
  {
   "cell_type": "markdown",
   "id": "575f131e",
   "metadata": {},
   "source": [
    "Of course, we're ultimately going to want to do much more than add and multiply arrays together. NumPy arrays also have more sophisticated methods built-in."
   ]
  },
  {
   "cell_type": "code",
   "execution_count": 27,
   "id": "9af760a1",
   "metadata": {},
   "outputs": [
    {
     "data": {
      "text/plain": [
       "18.750711111111112"
      ]
     },
     "execution_count": 27,
     "metadata": {},
     "output_type": "execute_result"
    }
   ],
   "source": [
    "temps.mean()"
   ]
  },
  {
   "cell_type": "markdown",
   "id": "befa2fd3",
   "metadata": {},
   "source": [
    "If we don't provide any arguments to the `mean()` method when it is called on a `numpy.ndarray`, then we get the *overall mean,* i.e., the mean of the entire dataset.\n",
    "\n",
    "But what if we wanted to calculate the mean January temperature? We could either filter the data **or we could tell the `temps` array that we want to calculate the mean across a given axis.**"
   ]
  },
  {
   "cell_type": "code",
   "execution_count": 28,
   "id": "d07ac88b",
   "metadata": {},
   "outputs": [
    {
     "data": {
      "text/plain": [
       "array([12.03973333, 12.5304    , 14.23013333, 16.0588    , 19.206     ,\n",
       "       22.93893333, 26.20706667, 27.01853333, 24.4708    , 20.76026667,\n",
       "       16.13786667, 13.41      ])"
      ]
     },
     "execution_count": 28,
     "metadata": {},
     "output_type": "execute_result"
    }
   ],
   "source": [
    "temps.mean(axis = 0)"
   ]
  },
  {
   "cell_type": "markdown",
   "id": "d4601d14",
   "metadata": {},
   "source": [
    "Above, `axis = 0` indicates that we want to *collapse* the years axis (first axis, or axis at position 0) when calculating the mean. If we're in doubt, we can always ask for:"
   ]
  },
  {
   "cell_type": "code",
   "execution_count": 29,
   "id": "b6f47122",
   "metadata": {},
   "outputs": [
    {
     "data": {
      "text/plain": [
       "(12,)"
      ]
     },
     "execution_count": 29,
     "metadata": {},
     "output_type": "execute_result"
    }
   ],
   "source": [
    "temps.mean(axis = 0).shape"
   ]
  },
  {
   "cell_type": "markdown",
   "id": "3814bcfa",
   "metadata": {},
   "source": [
    "**Can you guess what this array represents?**"
   ]
  },
  {
   "cell_type": "code",
   "execution_count": 30,
   "id": "70d6d9bb",
   "metadata": {},
   "outputs": [
    {
     "data": {
      "text/plain": [
       "array([18.29916667, 18.64083333, 18.45666667, 18.24916667, 18.6975    ,\n",
       "       18.165     , 17.92333333, 19.17416667, 17.38166667, 17.885     ,\n",
       "       18.5       , 18.36333333, 18.37666667, 19.43      , 18.965     ,\n",
       "       18.7875    , 19.0975    , 18.825     , 18.8775    , 18.89333333,\n",
       "       18.98333333, 18.61333333, 18.74166667, 18.33333333, 18.12333333,\n",
       "       18.43416667, 18.56666667, 18.02833333, 18.0375    , 18.37      ,\n",
       "       18.1125    , 18.35833333, 18.06      , 18.415     , 18.44833333,\n",
       "       18.63166667, 17.21166667, 18.55416667, 18.37916667, 19.05416667,\n",
       "       18.765     , 19.24      , 19.2075    , 18.23      , 18.22166667,\n",
       "       18.12      , 19.215     , 19.16416667, 18.39333333, 19.37583333,\n",
       "       18.85583333, 19.1875    , 19.15833333, 19.43583333, 18.97916667,\n",
       "       19.49      , 18.93083333, 18.46083333, 19.37166667, 18.8025    ,\n",
       "       18.9175    , 19.2825    , 19.00083333, 19.38333333, 18.955     ,\n",
       "       18.67833333, 19.33833333, 19.37166667, 19.37      , 19.5175    ,\n",
       "       18.6775    , 19.09666667, 19.54166667, 19.765     , 20.3575    ])"
      ]
     },
     "execution_count": 30,
     "metadata": {},
     "output_type": "execute_result"
    }
   ],
   "source": [
    "temps.mean(axis = 1)"
   ]
  },
  {
   "cell_type": "markdown",
   "id": "450d1733",
   "metadata": {},
   "source": [
    "It can be very difficult to remember what `axis` to use in calculating a summary... Here's a helpful visual representation.\n",
    "\n",
    "![](assets/numpy-axis.jpg)\n",
    "\n",
    "*Image courtesy of Alex Riley*"
   ]
  },
  {
   "cell_type": "markdown",
   "id": "6f417a9b",
   "metadata": {},
   "source": [
    "**We might also ask: How warm was the coldest July in Utqiagvik?**"
   ]
  },
  {
   "cell_type": "code",
   "execution_count": 31,
   "id": "84b1308c",
   "metadata": {},
   "outputs": [
    {
     "data": {
      "text/plain": [
       "29.19"
      ]
     },
     "execution_count": 31,
     "metadata": {},
     "output_type": "execute_result"
    }
   ],
   "source": [
    "temps[:,6].max()"
   ]
  },
  {
   "cell_type": "markdown",
   "id": "3bca9833",
   "metadata": {},
   "source": [
    "---"
   ]
  },
  {
   "cell_type": "markdown",
   "id": "0f57cbd7",
   "metadata": {},
   "source": [
    "### Challenge: Statistical Summary of an Array"
   ]
  },
  {
   "cell_type": "markdown",
   "id": "2a7b29f5",
   "metadata": {},
   "source": [
    "What's the minimum, maximum, and mean monthly temperature for August in Algiers?"
   ]
  },
  {
   "cell_type": "markdown",
   "id": "387ff079",
   "metadata": {},
   "source": [
    "---"
   ]
  },
  {
   "cell_type": "markdown",
   "id": "e981b6e6",
   "metadata": {},
   "source": [
    "## Break!\n",
    "\n",
    "*A 10-minute break for learners.*"
   ]
  },
  {
   "cell_type": "markdown",
   "id": "6630de65",
   "metadata": {},
   "source": [
    "---\n",
    "\n",
    "## Sorting and Filtering Arrays"
   ]
  },
  {
   "cell_type": "markdown",
   "id": "34f94260",
   "metadata": {},
   "source": [
    "How can we filter the contents of an array?\n",
    "\n",
    "For example, suppose that we wanted to use these temperature data to predict when we should wear a jacket (*veste*) in Algiers--\"jacket weather\" is defined as any day when the mean monthly temperature is below 15 deg C."
   ]
  },
  {
   "cell_type": "code",
   "execution_count": 32,
   "id": "ef4802c4",
   "metadata": {},
   "outputs": [
    {
     "data": {
      "text/plain": [
       "array([ True,  True,  True, False, False, False, False, False, False,\n",
       "       False, False,  True])"
      ]
     },
     "execution_count": 32,
     "metadata": {},
     "output_type": "execute_result"
    }
   ],
   "source": [
    "jacket = temps < 15\n",
    "jacket[0]"
   ]
  },
  {
   "cell_type": "markdown",
   "id": "e79108a9",
   "metadata": {},
   "source": [
    "Just like addition and multiplication, we can perform *logical* operations on arrays. In the above example, we can ask *where* in the `numpy` array the temperature is less than 15 deg C. The result is a new type of array, a boolean array."
   ]
  },
  {
   "cell_type": "code",
   "execution_count": 33,
   "id": "7c5edd89",
   "metadata": {},
   "outputs": [
    {
     "data": {
      "text/plain": [
       "dtype('bool')"
      ]
     },
     "execution_count": 33,
     "metadata": {},
     "output_type": "execute_result"
    }
   ],
   "source": [
    "jacket.dtype"
   ]
  },
  {
   "cell_type": "markdown",
   "id": "db2dbd37",
   "metadata": {},
   "source": [
    "And this *boolean array* has the same shape as `temps`:"
   ]
  },
  {
   "cell_type": "code",
   "execution_count": 34,
   "id": "0827af25",
   "metadata": {},
   "outputs": [
    {
     "data": {
      "text/plain": [
       "(75, 12)"
      ]
     },
     "execution_count": 34,
     "metadata": {},
     "output_type": "execute_result"
    }
   ],
   "source": [
    "jacket.shape"
   ]
  },
  {
   "cell_type": "markdown",
   "id": "6fd77f95",
   "metadata": {},
   "source": [
    "**How can we use this insight to filter arrays?**"
   ]
  },
  {
   "cell_type": "code",
   "execution_count": 35,
   "id": "b3f571e8",
   "metadata": {},
   "outputs": [
    {
     "data": {
      "text/plain": [
       "array([11.57, 12.49, 14.56, 13.06, 11.91, 12.1 , 12.87, 13.85, 11.45,\n",
       "       13.21, 13.73, 12.07, 11.33, 12.13, 14.6 , 14.09, 10.81, 11.41,\n",
       "       12.74,  9.43, 10.48, 12.39, 10.02, 10.66, 13.49, 14.5 , 13.6 ,\n",
       "       13.92, 13.28, 13.73, 14.89, 12.4 ,  7.76, 13.2 , 14.92, 13.78,\n",
       "       11.81, 10.12, 14.03, 14.75, 14.7 , 11.66, 11.47, 14.06, 13.62,\n",
       "       14.34, 14.22, 12.81, 11.7 , 12.85, 11.45, 14.17, 14.53, 11.5 ,\n",
       "       11.48, 14.21, 14.78, 14.77, 13.72, 12.51, 14.53, 13.  , 12.7 ,\n",
       "       12.42, 14.3 , 14.7 , 12.56, 13.81, 13.23, 12.56, 11.47, 14.94,\n",
       "       14.74, 14.21, 13.77, 14.42, 13.07, 12.2 , 13.42, 12.65, 12.39,\n",
       "       13.89, 14.58, 14.11, 13.71, 12.76, 12.68, 14.21, 13.03, 13.84,\n",
       "       13.09, 12.62, 12.62, 12.6 , 14.49, 13.06, 11.71, 14.06, 14.26,\n",
       "       13.47, 12.61, 12.02, 12.67, 13.1 , 13.39, 12.84, 14.87, 14.69,\n",
       "       14.08, 12.45, 12.49, 12.78, 13.28, 11.07, 12.39, 14.82, 14.85,\n",
       "       13.72, 14.51, 12.86, 13.73, 14.94, 14.99, 11.8 , 14.2 , 14.09,\n",
       "       14.77, 14.61, 13.36, 13.61, 14.55, 14.53, 13.41, 11.16, 13.2 ,\n",
       "       14.23, 14.8 , 11.55, 10.28, 11.35, 12.51, 12.72, 13.98, 11.73,\n",
       "       11.85, 10.67, 14.46, 13.21, 11.85, 11.09, 11.98, 13.63, 10.38,\n",
       "       14.33, 12.22, 13.11, 11.66, 12.13, 13.03, 14.02, 12.22, 11.26,\n",
       "       12.26, 14.42, 14.61, 13.22, 12.05, 13.8 , 12.26, 11.47, 12.8 ,\n",
       "       14.9 , 12.85, 13.78, 11.84, 11.13, 10.96, 14.39, 14.52, 14.92,\n",
       "       12.31, 10.91, 11.81, 13.29, 13.75, 11.5 , 11.37, 13.5 , 14.58,\n",
       "       12.83, 12.06, 12.58, 13.33, 12.06, 13.84, 14.02, 14.4 , 12.1 ,\n",
       "       13.97, 14.2 , 13.75, 13.72, 14.62, 13.95, 13.11, 13.71, 14.75,\n",
       "       12.2 , 12.22, 10.99, 14.48, 14.9 , 13.02, 10.66, 13.54, 14.33,\n",
       "       13.15, 12.45, 12.06, 12.51, 13.01, 14.81, 11.69, 11.58, 12.98,\n",
       "       12.74, 13.39, 14.  , 13.07,  9.91,  9.6 , 13.94, 12.36, 10.89,\n",
       "       11.27, 14.95, 13.25, 12.28, 14.21, 13.59, 12.78, 12.7 , 13.85,\n",
       "       14.46, 14.52, 11.86, 11.83, 11.7 , 14.32, 14.61, 12.72, 13.68,\n",
       "       14.5 , 13.53, 12.43, 11.97, 14.46, 13.12, 11.37,  8.92, 13.95,\n",
       "       13.51, 12.5 , 11.33, 14.81, 13.11, 12.53, 12.5 , 13.15, 11.91,\n",
       "       10.86, 10.26, 13.67, 14.13, 13.56, 12.82, 12.96, 13.24, 10.14,\n",
       "       13.44, 14.77, 11.71, 12.11, 10.42, 13.59, 13.3 , 10.78, 11.74,\n",
       "       14.18, 14.94, 14.04, 11.29, 14.54, 14.8 , 12.85, 11.85, 14.56,\n",
       "       14.17, 14.43, 13.64, 11.3 , 13.39, 13.84])"
      ]
     },
     "execution_count": 35,
     "metadata": {},
     "output_type": "execute_result"
    }
   ],
   "source": [
    "temps[temps < 15]"
   ]
  },
  {
   "cell_type": "markdown",
   "id": "8820e5e7",
   "metadata": {},
   "source": [
    "**This is the second way of indexing the contents of an array.**\n",
    "\n",
    "- We can index an array based on numeric indices, for example: `temps[0]` or `temps[0:5]`\n",
    "- Or, we can index an array by providing a *boolean array* of the same shape, for example: `temps[temps > 20]`\n",
    "\n",
    "For example, if we wanted to create a new dataset that contains 1 when it is \"jacket weather\" but 0 otherwise, we could write..."
   ]
  },
  {
   "cell_type": "code",
   "execution_count": 36,
   "id": "c0a46c12",
   "metadata": {},
   "outputs": [
    {
     "data": {
      "text/plain": [
       "(75, 12)"
      ]
     },
     "execution_count": 36,
     "metadata": {},
     "output_type": "execute_result"
    }
   ],
   "source": [
    "# Create a new array, full of zeros, with the same shape as temps\n",
    "jacket = np.zeros(temps.shape)\n",
    "jacket.shape"
   ]
  },
  {
   "cell_type": "markdown",
   "id": "22b4b845",
   "metadata": {},
   "source": [
    "We can use the filtering syntax to assign values to an array *only where the conditional expression evaluates to true.*"
   ]
  },
  {
   "cell_type": "code",
   "execution_count": 37,
   "id": "042fde14",
   "metadata": {},
   "outputs": [
    {
     "name": "stdout",
     "output_type": "stream",
     "text": [
      "[11.57 12.49 14.56 15.53 17.34 22.68 25.26 26.59 24.2  19.88 16.43 13.06]\n",
      "[1. 1. 1. 0. 0. 0. 0. 0. 0. 0. 0. 1.]\n"
     ]
    }
   ],
   "source": [
    "jacket[temps < 15] = 1\n",
    "\n",
    "print(temps[0])\n",
    "print(jacket[0])"
   ]
  },
  {
   "cell_type": "markdown",
   "id": "203e84eb",
   "metadata": {},
   "source": [
    "An easier way of doing this is to use the `numpy.where()` function:"
   ]
  },
  {
   "cell_type": "code",
   "execution_count": 38,
   "id": "c359da8d",
   "metadata": {},
   "outputs": [
    {
     "data": {
      "text/plain": [
       "array([1, 1, 1, 0, 0, 0, 0, 0, 0, 0, 0, 1])"
      ]
     },
     "execution_count": 38,
     "metadata": {},
     "output_type": "execute_result"
    }
   ],
   "source": [
    "# np.where() takes three arguments, the first is a conditional expression;\n",
    "#    2nd argument is the value to return if the expression is true\n",
    "#    3rd argument is the value to return if the expression is false\n",
    "jacket2 = np.where(temps < 15, 1, 0)\n",
    "jacket2[0]"
   ]
  },
  {
   "cell_type": "markdown",
   "id": "56cf12b3",
   "metadata": {},
   "source": [
    "Are we getting the same result?"
   ]
  },
  {
   "cell_type": "code",
   "execution_count": 39,
   "id": "ac7e1d2f",
   "metadata": {},
   "outputs": [
    {
     "data": {
      "text/plain": [
       "True"
      ]
     },
     "execution_count": 39,
     "metadata": {},
     "output_type": "execute_result"
    }
   ],
   "source": [
    "np.equal(jacket, jacket2).all()"
   ]
  },
  {
   "cell_type": "markdown",
   "id": "dd20ead8",
   "metadata": {},
   "source": [
    "This is great so far, but we our `jacket` array doesn't tell us *which months* are \"jacket weather;\" what if wanted to know *when* we should wear a jacket?"
   ]
  },
  {
   "cell_type": "code",
   "execution_count": 40,
   "id": "a90d157d",
   "metadata": {},
   "outputs": [
    {
     "data": {
      "text/plain": [
       "array([[ 0,  0],\n",
       "       [ 0,  1],\n",
       "       [ 0,  2],\n",
       "       [ 0, 11],\n",
       "       [ 1,  0]])"
      ]
     },
     "execution_count": 40,
     "metadata": {},
     "output_type": "execute_result"
    }
   ],
   "source": [
    "when_jacket = np.argwhere(temps < 15)\n",
    "\n",
    "# Just the first 5 rows\n",
    "when_jacket[0:5]"
   ]
  },
  {
   "cell_type": "markdown",
   "id": "6ca712d8",
   "metadata": {},
   "source": [
    "`np.argwhere()` returns an array with N columns where N is the number of dimensions of the input boolean array. Our `temps` array (and our boolean array, `temps < 15`), have 2 dimensions:\n",
    "\n",
    "- Year dimension (first axis)\n",
    "- Month dimension (second axis)\n",
    "\n",
    "So, if we want to see all the months where `temps < 15`, we should index the second column of `np.where(temps < 15)`:"
   ]
  },
  {
   "cell_type": "code",
   "execution_count": 41,
   "id": "5334dedf",
   "metadata": {},
   "outputs": [
    {
     "data": {
      "text/plain": [
       "array([ 0,  1,  2, 11,  0,  1,  2, 11,  0,  1,  2, 11,  0,  1,  2, 11,  0,\n",
       "        1, 11,  0,  1,  2,  0,  1,  2,  3, 11,  0,  1,  2, 11,  0,  1,  2,\n",
       "        3, 10, 11,  0,  1,  3, 10, 11,  0,  1,  2,  3, 11,  0,  1, 11,  0,\n",
       "        1,  2, 11,  0,  1,  2, 11,  0,  1,  2, 11,  0,  1,  2, 11,  0,  1,\n",
       "       11,  0,  1,  2, 11,  0,  2, 10, 11,  0,  1, 11,  0,  1,  2, 11,  0,\n",
       "        1, 11,  0,  1,  2, 11,  0,  1,  2, 10, 11,  0,  1,  2, 11,  0,  1,\n",
       "        2, 11,  0,  1,  2,  3, 11,  0,  1,  2, 11,  0,  1,  2,  3, 10, 11,\n",
       "        0,  1,  2, 11,  0,  1,  2,  3,  0,  1,  2,  3, 10, 11,  0,  1,  2,\n",
       "        3, 11,  0,  1,  0,  1,  2, 11,  0,  1,  2, 11,  0,  1,  2, 11,  0,\n",
       "        1,  2, 11,  0,  1,  2,  3, 11,  0,  1,  2, 11,  0,  1,  2, 11,  0,\n",
       "        1,  2,  0,  1, 11,  0,  1,  2,  3, 10, 11,  0,  1,  2, 11,  0,  1,\n",
       "        2,  3, 11,  0,  1, 11,  0,  1,  2,  0,  1,  2, 11,  0,  1,  2, 11,\n",
       "        0,  1,  2, 11,  0,  1,  2, 10, 11,  0,  1, 11,  0,  1, 11,  0,  1,\n",
       "       11,  0,  1, 11,  0,  1,  2, 11,  0,  1,  2, 11,  0,  1,  2, 11,  0,\n",
       "        1,  2, 11,  0,  1,  2, 10, 11,  0,  1,  2, 11,  0,  1,  2, 11,  0,\n",
       "        1,  2, 11,  0,  1,  2, 11,  0,  1,  2, 11,  0,  1,  2, 11,  0,  1,\n",
       "        2, 11,  0,  1,  2, 11,  0,  1,  2, 11,  0,  1,  2, 11,  0,  1,  2,\n",
       "       10, 11,  0,  1,  2, 11,  0,  1,  2, 10, 11,  0,  1,  2])"
      ]
     },
     "execution_count": 41,
     "metadata": {},
     "output_type": "execute_result"
    }
   ],
   "source": [
    "when_jacket[:,1]"
   ]
  },
  {
   "cell_type": "markdown",
   "id": "d325b981",
   "metadata": {},
   "source": [
    "The output of `numpy.argwhere()` is an array that gives the indices of where an array expression evaluates to `True`. Because our `temps` array is 2D, the result of `argwhere()` is a 2D array.\n",
    "\n",
    "- Every row of `when_jacket` represents an entry where the boolean array `temps < 15` is `True`\n",
    "- The first column of `when_jacket` indicates the row *in the boolean array* where an entry is `True`\n",
    "- The second column of `when_jacket` indicates the column *in the boolean array* where an entry is `True`"
   ]
  },
  {
   "cell_type": "markdown",
   "id": "25bb6f55",
   "metadata": {},
   "source": [
    "For example, we can see that \"jacket weather\" occurs in the following months..."
   ]
  },
  {
   "cell_type": "code",
   "execution_count": 42,
   "id": "42f4b6d9",
   "metadata": {},
   "outputs": [
    {
     "data": {
      "text/plain": [
       "array([ 1,  2,  3,  4, 11, 12])"
      ]
     },
     "execution_count": 42,
     "metadata": {},
     "output_type": "execute_result"
    }
   ],
   "source": [
    "# Add 1 to get a familiar month number (because Python starts counting at zero)\n",
    "np.unique(when_jacket[:,1]) + 1"
   ]
  },
  {
   "cell_type": "markdown",
   "id": "a5d246fb",
   "metadata": {},
   "source": [
    "That is: January, February, March, April, November, and December."
   ]
  },
  {
   "cell_type": "markdown",
   "id": "c6619bb0",
   "metadata": {},
   "source": [
    "---"
   ]
  },
  {
   "cell_type": "markdown",
   "id": "1fcd1972",
   "metadata": {},
   "source": [
    "## Reshaping Arrays"
   ]
  },
  {
   "cell_type": "markdown",
   "id": "9fc630df",
   "metadata": {},
   "source": [
    "As we've seen if we want to get the transpose of an array, we can write:"
   ]
  },
  {
   "cell_type": "code",
   "execution_count": 43,
   "id": "455654c7",
   "metadata": {},
   "outputs": [
    {
     "data": {
      "text/plain": [
       "(12, 75)"
      ]
     },
     "execution_count": 43,
     "metadata": {},
     "output_type": "execute_result"
    }
   ],
   "source": [
    "temps.T.shape"
   ]
  },
  {
   "cell_type": "code",
   "execution_count": 44,
   "id": "d16fad57",
   "metadata": {},
   "outputs": [
    {
     "data": {
      "text/plain": [
       "array([11.57, 11.91, 11.45, 11.33, 10.81,  9.43, 10.02, 13.92, 12.4 ,\n",
       "       10.12, 11.47, 12.81, 11.45, 11.48, 13.72, 12.7 , 12.56, 12.56,\n",
       "       14.21, 12.2 , 12.39, 13.71, 14.21, 12.62, 11.71, 12.61, 13.39,\n",
       "       12.45, 11.07, 12.86, 11.8 , 14.61, 11.16, 10.28, 12.51, 11.85,\n",
       "       11.85, 10.38, 11.66, 11.26, 13.22, 11.47, 12.85, 11.13, 10.91,\n",
       "       11.5 , 12.06, 12.06, 14.4 , 13.75, 13.11, 12.22, 10.66, 13.15,\n",
       "       12.51, 11.69, 12.74,  9.91, 10.89, 12.28, 12.7 , 11.83, 12.72,\n",
       "       12.43, 11.37, 12.5 , 12.53, 10.86, 13.56, 10.14, 12.11, 10.78,\n",
       "       11.29, 11.85, 11.3 ])"
      ]
     },
     "execution_count": 44,
     "metadata": {},
     "output_type": "execute_result"
    }
   ],
   "source": [
    "# Now, the first row is the first year of data, not the first month\n",
    "temps.T[0]"
   ]
  },
  {
   "cell_type": "markdown",
   "id": "f729b6c7",
   "metadata": {},
   "source": [
    "Are there other ways we can change the shape of arrays?"
   ]
  },
  {
   "cell_type": "code",
   "execution_count": 45,
   "id": "cacc3123",
   "metadata": {},
   "outputs": [
    {
     "data": {
      "text/plain": [
       "array([11.57, 12.49, 14.56, 15.53, 17.34, 22.68, 25.26, 26.59, 24.2 ,\n",
       "       19.88, 16.43, 13.06])"
      ]
     },
     "execution_count": 45,
     "metadata": {},
     "output_type": "execute_result"
    }
   ],
   "source": [
    "year1 = temps[0]\n",
    "year1"
   ]
  },
  {
   "cell_type": "code",
   "execution_count": 46,
   "id": "902bb693",
   "metadata": {},
   "outputs": [
    {
     "data": {
      "text/plain": [
       "(12,)"
      ]
     },
     "execution_count": 46,
     "metadata": {},
     "output_type": "execute_result"
    }
   ],
   "source": [
    "year1.shape"
   ]
  },
  {
   "cell_type": "code",
   "execution_count": 47,
   "id": "f20f38d3",
   "metadata": {},
   "outputs": [
    {
     "data": {
      "text/plain": [
       "array([[11.57, 12.49, 14.56],\n",
       "       [15.53, 17.34, 22.68],\n",
       "       [25.26, 26.59, 24.2 ],\n",
       "       [19.88, 16.43, 13.06]])"
      ]
     },
     "execution_count": 47,
     "metadata": {},
     "output_type": "execute_result"
    }
   ],
   "source": [
    "# For example, what if we wanted an axis for seasons?\n",
    "year1.reshape((4, 3))"
   ]
  },
  {
   "cell_type": "markdown",
   "id": "911b52e8",
   "metadata": {},
   "source": [
    "Because `year1` has 12 months (one year), we can easily reshape that 1D array into a 2D array with $4 \\times 3 = 12$ elements. Now:\n",
    "\n",
    "- The first axis (4 elements) represents the season: Winter, Spring, Summer, Fall\n",
    "- The second axis (3 elements) represents the month within each season\n",
    "\n",
    "We can do this for the entire `temps` array, too!"
   ]
  },
  {
   "cell_type": "code",
   "execution_count": 48,
   "id": "a3b8f916",
   "metadata": {},
   "outputs": [
    {
     "data": {
      "text/plain": [
       "array([[11.57, 12.49, 14.56],\n",
       "       [15.53, 17.34, 22.68],\n",
       "       [25.26, 26.59, 24.2 ],\n",
       "       [19.88, 16.43, 13.06]])"
      ]
     },
     "execution_count": 48,
     "metadata": {},
     "output_type": "execute_result"
    }
   ],
   "source": [
    "# For example, what if we wanted an axis for seasons?\n",
    "temps2 = temps.reshape((75, 4, 3))\n",
    "temps2[0]"
   ]
  },
  {
   "cell_type": "markdown",
   "id": "09c264cc",
   "metadata": {},
   "source": [
    "In the above example, we kept the first axis at 75 elements--that means 75 years. But we created a new, third axis, so the last two axes are now season (axis with 4 elements) and month-within-season (axis with 3 elements).\n",
    "\n",
    "`reshape()` only works if the resulting shape can contain the same number of elements."
   ]
  },
  {
   "cell_type": "code",
   "execution_count": 50,
   "id": "cadfb45c",
   "metadata": {},
   "outputs": [
    {
     "ename": "ValueError",
     "evalue": "cannot reshape array of size 900 into shape (10,12)",
     "output_type": "error",
     "traceback": [
      "\u001b[0;31m---------------------------------------------------------------------------\u001b[0m",
      "\u001b[0;31mValueError\u001b[0m                                Traceback (most recent call last)",
      "Cell \u001b[0;32mIn [50], line 1\u001b[0m\n\u001b[0;32m----> 1\u001b[0m \u001b[43mtemps\u001b[49m\u001b[38;5;241;43m.\u001b[39;49m\u001b[43mreshape\u001b[49m\u001b[43m(\u001b[49m\u001b[43m(\u001b[49m\u001b[38;5;241;43m10\u001b[39;49m\u001b[43m,\u001b[49m\u001b[43m \u001b[49m\u001b[38;5;241;43m12\u001b[39;49m\u001b[43m)\u001b[49m\u001b[43m)\u001b[49m\n",
      "\u001b[0;31mValueError\u001b[0m: cannot reshape array of size 900 into shape (10,12)"
     ]
    }
   ],
   "source": [
    "temps.reshape((10, 12))"
   ]
  },
  {
   "cell_type": "code",
   "execution_count": 52,
   "id": "2fb4b349",
   "metadata": {},
   "outputs": [
    {
     "data": {
      "text/plain": [
       "900"
      ]
     },
     "execution_count": 52,
     "metadata": {},
     "output_type": "execute_result"
    }
   ],
   "source": [
    "75 * 4 * 3"
   ]
  },
  {
   "cell_type": "code",
   "execution_count": 53,
   "id": "63214e91",
   "metadata": {},
   "outputs": [
    {
     "data": {
      "text/plain": [
       "900"
      ]
     },
     "execution_count": 53,
     "metadata": {},
     "output_type": "execute_result"
    }
   ],
   "source": [
    "temps.size"
   ]
  },
  {
   "cell_type": "markdown",
   "id": "371a2788",
   "metadata": {},
   "source": [
    "When we use `reshape()` we want to be careful to make sure that the result is what we expected. There's obviously more than one way to take the rows and columns of the original array and breaking them apart into a different shape. [You can read more about the *order* in which array elements are reshaped here,](https://numpy.org/devdocs/user/absolute_beginners.html#can-you-reshape-an-array) but this topic is beyond what you need to know for this course.\n",
    "\n",
    "**Often, we want to combine two or more arrays into a single array. There are several ways to do that...**"
   ]
  },
  {
   "cell_type": "code",
   "execution_count": 54,
   "id": "5bc78463",
   "metadata": {},
   "outputs": [
    {
     "data": {
      "text/plain": [
       "array([[11.57, 12.49, 14.56, 15.53, 17.34, 22.68, 25.26, 26.59, 24.2 ,\n",
       "        19.88, 16.43, 13.06],\n",
       "       [11.91, 12.1 , 12.87, 17.15, 17.71, 22.55, 25.94, 26.73, 25.75,\n",
       "        21.05, 16.08, 13.85]])"
      ]
     },
     "execution_count": 54,
     "metadata": {},
     "output_type": "execute_result"
    }
   ],
   "source": [
    "# Stack the first two years on top of each other (vertically, i.e., \"v\" in \"vstack\")\n",
    "np.vstack([temps[0], temps[1]])"
   ]
  },
  {
   "cell_type": "code",
   "execution_count": 55,
   "id": "5c82da30",
   "metadata": {},
   "outputs": [
    {
     "data": {
      "text/plain": [
       "array([11.57, 12.49, 14.56, 15.53, 17.34, 22.68, 25.26, 26.59, 24.2 ,\n",
       "       19.88, 16.43, 13.06, 11.91, 12.1 , 12.87, 17.15, 17.71, 22.55,\n",
       "       25.94, 26.73, 25.75, 21.05, 16.08, 13.85])"
      ]
     },
     "execution_count": 55,
     "metadata": {},
     "output_type": "execute_result"
    }
   ],
   "source": [
    "# Stack the first two years horizontally; result is a single row\n",
    "np.hstack([temps[0], temps[1]])"
   ]
  },
  {
   "cell_type": "markdown",
   "id": "90005f2d",
   "metadata": {},
   "source": [
    "The more general `stack()` function will let you specify the axis along which the arrays should be joined. For instance, if we wanted to stack the years together as columns instead of as rows..."
   ]
  },
  {
   "cell_type": "code",
   "execution_count": 56,
   "id": "15b4a905",
   "metadata": {},
   "outputs": [
    {
     "data": {
      "text/plain": [
       "array([[11.57, 11.91],\n",
       "       [12.49, 12.1 ],\n",
       "       [14.56, 12.87],\n",
       "       [15.53, 17.15],\n",
       "       [17.34, 17.71],\n",
       "       [22.68, 22.55],\n",
       "       [25.26, 25.94],\n",
       "       [26.59, 26.73],\n",
       "       [24.2 , 25.75],\n",
       "       [19.88, 21.05],\n",
       "       [16.43, 16.08],\n",
       "       [13.06, 13.85]])"
      ]
     },
     "execution_count": 56,
     "metadata": {},
     "output_type": "execute_result"
    }
   ],
   "source": [
    "np.stack([temps[0], temps[1]], axis = 1)"
   ]
  },
  {
   "cell_type": "markdown",
   "id": "3b244e33",
   "metadata": {},
   "source": [
    "---"
   ]
  },
  {
   "cell_type": "markdown",
   "id": "ec716d88",
   "metadata": {},
   "source": [
    "## Plotting with matplotlib"
   ]
  },
  {
   "cell_type": "markdown",
   "id": "e07e2946",
   "metadata": {},
   "source": [
    "There's a lot more we can do with NumPy arrays, but first we should learn how to visualize multi-dimensional array data, at least to make things more interesting.\n",
    "\n",
    "**`matplotlib` is a basic plotting library for Python. Most of the time we use it, we'll actually import the `pyplot` submodule.**"
   ]
  },
  {
   "cell_type": "code",
   "execution_count": 57,
   "id": "a71f40ab",
   "metadata": {},
   "outputs": [
    {
     "data": {
      "text/plain": [
       "<matplotlib.image.AxesImage at 0x7f71176db7f0>"
      ]
     },
     "execution_count": 57,
     "metadata": {},
     "output_type": "execute_result"
    },
    {
     "data": {
      "image/png": "[encoded data removed]",
      "text/plain": [
       "<Figure size 640x480 with 1 Axes>"
      ]
     },
     "metadata": {},
     "output_type": "display_data"
    }
   ],
   "source": [
    "from matplotlib import pyplot\n",
    "\n",
    "pyplot.imshow(temps, aspect = 1/4)"
   ]
  },
  {
   "cell_type": "markdown",
   "id": "5289c641",
   "metadata": {},
   "source": [
    "Above, we've created a rugplot using `pyplot.imshow()` or \"image-show,\" a quick way to plot 2D arrays as if they were images. Warmer colors represent higher temperatures. Can you identify a seasonal pattern across the years?\n",
    "\n",
    "Next, let's look at average temperature over the years."
   ]
  },
  {
   "cell_type": "code",
   "execution_count": 58,
   "id": "078f6141",
   "metadata": {},
   "outputs": [
    {
     "data": {
      "text/plain": [
       "[<matplotlib.lines.Line2D at 0x7f711545d870>]"
      ]
     },
     "execution_count": 58,
     "metadata": {},
     "output_type": "execute_result"
    },
    {
     "data": {
      "image/png": "[encoded data removed]",
      "text/plain": [
       "<Figure size 640x480 with 1 Axes>"
      ]
     },
     "metadata": {},
     "output_type": "display_data"
    }
   ],
   "source": [
    "avg_temp = temps.mean(axis = 1)\n",
    "pyplot.plot(avg_temp)"
   ]
  },
  {
   "cell_type": "markdown",
   "id": "bd00d305",
   "metadata": {},
   "source": [
    "**Let's try to understand this last example.**\n",
    "\n",
    "```py\n",
    "help(pyplot.plot)\n",
    "```\n",
    "\n",
    "**How can we improve how this plot looks?**"
   ]
  },
  {
   "cell_type": "code",
   "execution_count": 61,
   "id": "d1069ed7",
   "metadata": {},
   "outputs": [
    {
     "data": {
      "text/plain": [
       "array([1948, 1949, 1950, 1951, 1952, 1953, 1954, 1955, 1956, 1957, 1958,\n",
       "       1959, 1960, 1961, 1962, 1963, 1964, 1965, 1966, 1967, 1968, 1969,\n",
       "       1970, 1971, 1972, 1973, 1974, 1975, 1976, 1977, 1978, 1979, 1980,\n",
       "       1981, 1982, 1983, 1984, 1985, 1986, 1987, 1988, 1989, 1990, 1991,\n",
       "       1992, 1993, 1994, 1995, 1996, 1997, 1998, 1999, 2000, 2001, 2002,\n",
       "       2003, 2004, 2005, 2006, 2007, 2008, 2009, 2010, 2011, 2012, 2013,\n",
       "       2014, 2015, 2016, 2017, 2018, 2019, 2020, 2021, 2022])"
      ]
     },
     "execution_count": 61,
     "metadata": {},
     "output_type": "execute_result"
    }
   ],
   "source": [
    "years = np.arange(1948, 2023)\n",
    "years"
   ]
  },
  {
   "cell_type": "code",
   "execution_count": 62,
   "id": "16b8e0d0",
   "metadata": {},
   "outputs": [
    {
     "data": {
      "image/png": "[encoded data removed]",
      "text/plain": [
       "<Figure size 640x480 with 1 Axes>"
      ]
     },
     "metadata": {},
     "output_type": "display_data"
    }
   ],
   "source": [
    "pyplot.plot(years, avg_temp)\n",
    "pyplot.show()"
   ]
  },
  {
   "cell_type": "code",
   "execution_count": 63,
   "id": "100bec03",
   "metadata": {},
   "outputs": [
    {
     "data": {
      "image/png": "[encoded data removed]",
      "text/plain": [
       "<Figure size 640x480 with 1 Axes>"
      ]
     },
     "metadata": {},
     "output_type": "display_data"
    }
   ],
   "source": [
    "pyplot.plot(years, avg_temp)\n",
    "pyplot.xlabel('Year')\n",
    "pyplot.ylabel('Mean Monthly Temperature (deg C)')\n",
    "pyplot.show()"
   ]
  },
  {
   "cell_type": "code",
   "execution_count": 64,
   "id": "60559992",
   "metadata": {},
   "outputs": [
    {
     "data": {
      "image/png": "[encoded data removed]",
      "text/plain": [
       "<Figure size 640x480 with 1 Axes>"
      ]
     },
     "metadata": {},
     "output_type": "display_data"
    }
   ],
   "source": [
    "pyplot.plot(years, avg_temp)\n",
    "pyplot.xlabel('Year')\n",
    "pyplot.ylabel('Mean Monthly Temperature (deg C)')\n",
    "pyplot.xlim(1948, 2000)\n",
    "pyplot.show()"
   ]
  },
  {
   "cell_type": "markdown",
   "id": "46e62e45",
   "metadata": {},
   "source": [
    "**What other kinds of plots can we make?**\n",
    "\n",
    "Earlier, when we typed `pyplot.plot(avg_temp)`, we got a line plot. `pyplot` got a 1D array of values and just assumed the data were equally space and that we wanted to connect them with a line.\n",
    "\n",
    "But `pyplot.plot()` is a more general tool; it can plot any `y` value against any `x` value."
   ]
  },
  {
   "cell_type": "code",
   "execution_count": 65,
   "id": "ea6e93c6",
   "metadata": {},
   "outputs": [
    {
     "data": {
      "image/png": "[encoded data removed]",
      "text/plain": [
       "<Figure size 640x480 with 1 Axes>"
      ]
     },
     "metadata": {},
     "output_type": "display_data"
    }
   ],
   "source": [
    "# Plotting July temperatures against January temperatures\n",
    "pyplot.plot(temps[:,0], temps[:,6])\n",
    "pyplot.show()"
   ]
  },
  {
   "cell_type": "markdown",
   "id": "03e47317",
   "metadata": {},
   "source": [
    "This would look a lot cleaner if we told `pyplot` how to represent the points; and, specifically, to represent them as dots instead of a connected line."
   ]
  },
  {
   "cell_type": "code",
   "execution_count": 66,
   "id": "c5c57784",
   "metadata": {},
   "outputs": [
    {
     "data": {
      "image/png": "[encoded data removed]",
      "text/plain": [
       "<Figure size 640x480 with 1 Axes>"
      ]
     },
     "metadata": {},
     "output_type": "display_data"
    }
   ],
   "source": [
    "pyplot.plot(temps[:,0], temps[:,6], 'k.')\n",
    "pyplot.show()"
   ]
  },
  {
   "cell_type": "markdown",
   "id": "d617ea98",
   "metadata": {},
   "source": [
    "`'k.'` is a formatting string; it's a short-hand notation understood by `pyplot` that codes for two things:\n",
    "\n",
    "- Show the points as dots, `.` as the dot symbol\n",
    "- Color the points as black, `k` for \"blacK\" (\"b\" represents blue)\n",
    "\n",
    "[You can see more examples of formats in the `pyplot` documentation.](https://matplotlib.org/stable/api/_as_gen/matplotlib.pyplot.plot.html#matplotlib.pyplot.plot)\n",
    "\n",
    "Alternatively, we could write:"
   ]
  },
  {
   "cell_type": "code",
   "execution_count": 67,
   "id": "673e70d6",
   "metadata": {},
   "outputs": [
    {
     "data": {
      "image/png": "[encoded data removed]",
      "text/plain": [
       "<Figure size 640x480 with 1 Axes>"
      ]
     },
     "metadata": {},
     "output_type": "display_data"
    }
   ],
   "source": [
    "pyplot.scatter(temps[:,0], temps[:,6])\n",
    "pyplot.show()"
   ]
  },
  {
   "cell_type": "markdown",
   "id": "5ea524fd",
   "metadata": {},
   "source": [
    "---"
   ]
  },
  {
   "cell_type": "markdown",
   "id": "6dfcd9c4",
   "metadata": {},
   "source": [
    "## More Resources"
   ]
  },
  {
   "cell_type": "markdown",
   "id": "5c4b7746",
   "metadata": {},
   "source": [
    "- [Visual introduction to NumPy](https://jmsevillam.github.io/slides/Python/Numpy.slides.html#/)"
   ]
  }
 ],
 "metadata": {
  "kernelspec": {
   "display_name": "Python 3 (ipykernel)",
   "language": "python",
   "name": "python3"
  },
  "language_info": {
   "codemirror_mode": {
    "name": "ipython",
    "version": 3
   },
   "file_extension": ".py",
   "mimetype": "text/x-python",
   "name": "python",
   "nbconvert_exporter": "python",
   "pygments_lexer": "ipython3",
   "version": "3.10.6"
  }
 },
 "nbformat": 4,
 "nbformat_minor": 5
}
