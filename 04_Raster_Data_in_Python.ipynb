{
 "cells": [
  {
   "cell_type": "markdown",
   "id": "3bb9912f",
   "metadata": {},
   "source": [
    "# Raster Data Analysis in Python\n",
    "\n",
    "*2 hours*"
   ]
  },
  {
   "cell_type": "markdown",
   "id": "e0d95846",
   "metadata": {},
   "source": [
    "---"
   ]
  },
  {
   "cell_type": "markdown",
   "id": "fff01c98",
   "metadata": {},
   "source": [
    "## The Geospatial Data Abstraction Library (GDAL)"
   ]
  },
  {
   "cell_type": "markdown",
   "id": "5ed4d433",
   "metadata": {},
   "source": [
    "We're finally ready to start working with spatial file formats in Python!\n",
    "\n",
    "**Today we'll introduce the Geospatial Data Abstraction Library (GDAL).** GDAL is a collection of tools for working with geospatial raster data. It is often referenced as part of \"GDAL/OGR\" where \"OGR\" is a related set of tools for working with vector data; OGR stands for OpenGIS Reference, but is always called just \"OGR.\"\n",
    "\n",
    "GDAL is a library written in the C language but it can also be imported into Python. When we import it in Python we write:"
   ]
  },
  {
   "cell_type": "code",
   "execution_count": null,
   "id": "406434f7",
   "metadata": {},
   "outputs": [],
   "source": [
    "from osgeo import gdal"
   ]
  },
  {
   "cell_type": "markdown",
   "id": "0042ca27",
   "metadata": {},
   "source": [
    "`osgeo` refers to the Open Source Geospatial Consortium.\n",
    "\n",
    "When we use the `gdal` library, we're most often going to work with a `gdal.Dataset` object. This is the type of object that `gdal` uses to represent raster datasets. For this example, we'll use data collected as part of the National Ecological Observatory Network (NEON), at a Long-Term Ecological Research (LTER) site. [You can read more about these data here.](https://data.neonscience.org/data-products/DP3.30011.001)\n",
    "\n",
    "**We create a new `gdal.Dataset` by calling `gdal.Open()` on a raster file path.**"
   ]
  },
  {
   "cell_type": "code",
   "execution_count": null,
   "id": "23c669c4",
   "metadata": {},
   "outputs": [],
   "source": [
    "ds = gdal.Open('http://files.ntsg.umt.edu/data/GIS_Programming/data/NEON_albedo.tif')\n",
    "ds"
   ]
  },
  {
   "cell_type": "markdown",
   "id": "8256d902",
   "metadata": {},
   "source": [
    "The attributes of a `gdal.Dataset` are named a little differently...\n",
    "\n",
    "```py\n",
    "dir(ds)\n",
    "```\n",
    "\n",
    "They generally appear in what is called *camel-case,* because the alternating capital letters form \"humps\" in the attribute names."
   ]
  },
  {
   "cell_type": "code",
   "execution_count": null,
   "id": "b8c43c23",
   "metadata": {},
   "outputs": [],
   "source": [
    "ds.RasterCount"
   ]
  },
  {
   "cell_type": "markdown",
   "id": "ece6b997",
   "metadata": {},
   "source": [
    "When `RasterCount` is 1, we know we're working with a single-band image."
   ]
  },
  {
   "cell_type": "code",
   "execution_count": null,
   "id": "f042eec4",
   "metadata": {},
   "outputs": [],
   "source": [
    "(ds.RasterXSize, ds.RasterYSize)"
   ]
  },
  {
   "cell_type": "markdown",
   "id": "48963036",
   "metadata": {},
   "source": [
    "**What distinguishes a `gdal.Dataset`, of course, is that it represents a spatial dataset. What is the spatial reference system (SRS) of this dataset?**"
   ]
  },
  {
   "cell_type": "code",
   "execution_count": null,
   "id": "9b06b13c",
   "metadata": {},
   "outputs": [],
   "source": [
    "ds.GetProjection()"
   ]
  },
  {
   "cell_type": "markdown",
   "id": "f34d47ed",
   "metadata": {},
   "source": [
    "Wow, that's a lot! This can be pretty hard to read the way it is currently displayed.\n",
    "\n",
    "Below, we'll extract the `SpatialReference` object, which is part of a different Python module in the `osgeo` package called `osr`."
   ]
  },
  {
   "cell_type": "code",
   "execution_count": null,
   "id": "21e5ea67",
   "metadata": {},
   "outputs": [],
   "source": [
    "srs = ds.GetSpatialRef()\n",
    "srs"
   ]
  },
  {
   "cell_type": "code",
   "execution_count": null,
   "id": "7755fb2f",
   "metadata": {},
   "outputs": [],
   "source": [
    "print(srs.ExportToPrettyWkt())"
   ]
  },
  {
   "cell_type": "markdown",
   "id": "f866f6b5",
   "metadata": {},
   "source": [
    "**This SRS or projection definition is in a format called Well-Known Text (WKT).** It defines many of the projection's parameters in terms of EPSG codes, which you may recall using before in a Desktop GIS program.\n",
    "\n",
    "Here, we see that this raster data file is in the Universal Transverse Mercator (UTM) projection, using the WGS84 datum."
   ]
  },
  {
   "cell_type": "markdown",
   "id": "1cb1cc06",
   "metadata": {},
   "source": [
    "### Defining the Spatial Reference System in Python"
   ]
  },
  {
   "cell_type": "markdown",
   "id": "1bd9c5be",
   "metadata": {},
   "source": [
    "**To completely describe a raster dataset in Python, we need two pieces of information:**\n",
    "\n",
    "1. The spatial reference system (SRS) or *projection* of the data; this describes how the flat image corresponds to the non-flat Earth.\n",
    "2. The *affine transformation* or **geotransform,** which describes how the raster's rows and columns line up with the geospatial coordinates, e.g., latitude and longitude.\n",
    "\n",
    "So, if we're using GDAL, we'll keep the SRS information around in its WKT format:"
   ]
  },
  {
   "cell_type": "code",
   "execution_count": null,
   "id": "e93ebfc9",
   "metadata": {},
   "outputs": [],
   "source": [
    "wkt = ds.GetProjection()"
   ]
  },
  {
   "cell_type": "markdown",
   "id": "8373fdb4",
   "metadata": {},
   "source": [
    "**The second piece of information, the geotransform, is obtained:**"
   ]
  },
  {
   "cell_type": "code",
   "execution_count": null,
   "id": "335ce435",
   "metadata": {},
   "outputs": [],
   "source": [
    "gt = ds.GetGeoTransform()\n",
    "gt"
   ]
  },
  {
   "cell_type": "markdown",
   "id": "75a6dabd",
   "metadata": {},
   "source": [
    "**What does this mean?** The GeoTransform always consists of 6 numbers:\n",
    "\n",
    "```py\n",
    "(x_min, pixel_width, row_rotation, y_max, col_rotation, -pixel_height)\n",
    "```\n",
    "\n",
    "1. `x_min` is the minimum X coordinate, for example, the minimum or west-most Longitude.\n",
    "2. `pixel_width` is the width of a raster pixel in the units used by the SRS, usually meters or degrees.\n",
    "3. `row_rotation` describes how rows are oriented on the map; for North-up maps this is always zero.\n",
    "4. `y_max` is the maximum Y coordinate, for example, the maximum or north-most Latitude.\n",
    "5. `col_rotation` is similar to `row_rotation` and is always zero for North-up maps.\n",
    "6. `-pixel_height` is the *negative* height of a raster pixel, in the units used by the SRS.\n",
    "\n",
    "\n",
    "[You can read more about the GeoTransform here.](https://gdal.org/tutorials/geotransforms_tut.html)"
   ]
  },
  {
   "cell_type": "markdown",
   "id": "33ba7715",
   "metadata": {},
   "source": [
    "An **affine transformation** is a kind of transformation that preserves lines and paralellism; in GIS, it's a way of mapping one 2D grid onto a different gridded coordinate system.\n",
    "\n",
    "![](./assets/affine-transformation.jpg)\n",
    "\n",
    "*Image from [GeeksForGeeks.org](https://www.geeksforgeeks.org/python-opencv-affine-traansformation/)*\n",
    "\n",
    "For example, an affine transformation describes the change in perspective between a billboard seen at an angle and the original image.\n",
    "\n",
    "![](./assets/affine-transformation2.png)\n",
    "\n",
    "*Image from [Felipe Meganha](https://felipemeganha.medium.com/perspective-transformation-with-kornia-8bf86718adfd)*"
   ]
  },
  {
   "cell_type": "markdown",
   "id": "4463489f",
   "metadata": {},
   "source": [
    "Let's build some intuition about raster data arrays in Python. When we work with raster data in Python, we have to keep in mind that there are two coordinate systems: \n",
    "\n",
    "1. The spatial coordinate system (SRS), which describes where something is on our representation of the Earth;\n",
    "2. The image coordinate system, which describes the location of a value within the array's data structure.\n",
    "\n",
    "The image coordinate system, for a single-band raster image, consists of rows and columns. **One important thing to remember is that row-column values *increase* from top to bottom in the image coordinate system, whereas spatial coordinate (e.g., latitude) *decrease* in that same direction.**\n",
    "\n",
    "![](./assets/coordinate-system-diagram.png)\n",
    "\n",
    "We'll use the `affine` module to translate between row-column coordinates and spatial coordinates."
   ]
  },
  {
   "cell_type": "code",
   "execution_count": null,
   "id": "afb9e254",
   "metadata": {},
   "outputs": [],
   "source": [
    "from affine import Affine\n",
    "\n",
    "transform = Affine.from_gdal(*gt)"
   ]
  },
  {
   "cell_type": "markdown",
   "id": "ca19f02c",
   "metadata": {},
   "source": [
    "The notation `*gt` tells Python to take each element of the `gt` list and provide it as an argument, in order, to the `from_gdal()` function. The resulting `Affine` object has a slightly different internal representation of these arguments..."
   ]
  },
  {
   "cell_type": "code",
   "execution_count": null,
   "id": "0b3c396d",
   "metadata": {},
   "outputs": [],
   "source": [
    "transform"
   ]
  },
  {
   "cell_type": "markdown",
   "id": "86b4c910",
   "metadata": {},
   "source": [
    "What are the spatial coordinates of the top-left corner of the image?"
   ]
  },
  {
   "cell_type": "code",
   "execution_count": null,
   "id": "7c7569f7",
   "metadata": {},
   "outputs": [],
   "source": [
    "transform * (0, 0)"
   ]
  },
  {
   "cell_type": "markdown",
   "id": "031ad1d9",
   "metadata": {},
   "source": [
    "Obviously, these numbers come straight from our GeoTransform: the left-most (west-most) coordinate and the top-most (north-most) coordinate.\n",
    "\n",
    "What are the spatial coordinates of the bottom-right pixel?"
   ]
  },
  {
   "cell_type": "code",
   "execution_count": null,
   "id": "49fe9faf",
   "metadata": {},
   "outputs": [],
   "source": [
    "transform * (1000, 1000)"
   ]
  },
  {
   "cell_type": "markdown",
   "id": "ffbc1570",
   "metadata": {},
   "source": [
    "This is a 1-meter image and the UTM projection has very little distortion for such small areas, so we can see that we would get the same result if we added 1000 meters (equivalent to 1000 pixels when we have 1-meter resolution) to the upper-left corner coordinate.\n",
    "\n",
    "Note that we technical *subtract* 1000 meters from the north-west coordinate (northing) because we are interested in the *bottom-right* pixel relative to the *top-left* pixel."
   ]
  },
  {
   "cell_type": "code",
   "execution_count": null,
   "id": "50dca3e0",
   "metadata": {},
   "outputs": [],
   "source": [
    "(gt[0] + 1000, gt[3] - 1000)"
   ]
  },
  {
   "cell_type": "markdown",
   "id": "12613f11",
   "metadata": {},
   "source": [
    "Again, spatial coordinate systems increase to the top and to the right; but the image coordinate system increases to the *bottom* and the right.\n",
    "\n",
    "If we ever wanted to find the image coordinates corresponding to a given pair of spatial coordinates, we could write:"
   ]
  },
  {
   "cell_type": "code",
   "execution_count": null,
   "id": "52c00c21",
   "metadata": {},
   "outputs": [],
   "source": [
    "~transform * (471000, 7227000)"
   ]
  },
  {
   "cell_type": "markdown",
   "id": "27ff106d",
   "metadata": {},
   "source": [
    "And, sure enough, these coordinates correspond to the last row and the last column of the image (bottom-right corner). [You can read more about the `affine` library here.](https://pypi.org/project/affine/)"
   ]
  },
  {
   "cell_type": "markdown",
   "id": "bc3d1819",
   "metadata": {},
   "source": [
    "**If we need to look up the WKT for a given coordinate reference system (CRS) or SRS, [we can use the `pyproj` library.](https://pyproj4.github.io/pyproj/stable/api/crs/crs.html)**"
   ]
  },
  {
   "cell_type": "code",
   "execution_count": null,
   "id": "a5d2117d",
   "metadata": {},
   "outputs": [],
   "source": [
    "from pyproj import CRS\n",
    "\n",
    "srs = CRS.from_user_input(4326)\n",
    "srs.to_wkt()"
   ]
  },
  {
   "cell_type": "markdown",
   "id": "1f51ad9f",
   "metadata": {},
   "source": [
    "Where `4326` is the European Petroleum Survey Group (EPSG) code for the WGS84 Geographic Coordinate System. [EPSG.io](https://epsg.io/) is a great website for getting detailed information on any CRS/SRS."
   ]
  },
  {
   "cell_type": "markdown",
   "id": "ee9df851",
   "metadata": {},
   "source": [
    "So, with `wkt` and `gt`, we have all the information needed to display the raster's rows and columns correctly on a map. But what about the raster data itself? How can we actually start working with the raster data values?"
   ]
  },
  {
   "cell_type": "markdown",
   "id": "371d6574",
   "metadata": {},
   "source": [
    "---"
   ]
  },
  {
   "cell_type": "markdown",
   "id": "7c03415d",
   "metadata": {},
   "source": [
    "## Working with Raster Data in Python"
   ]
  },
  {
   "cell_type": "markdown",
   "id": "a107556d",
   "metadata": {},
   "source": [
    "Raster data in Python can be represented by NumPy arrays."
   ]
  },
  {
   "cell_type": "code",
   "execution_count": null,
   "id": "c87e7b02",
   "metadata": {},
   "outputs": [],
   "source": [
    "arr = ds.ReadAsArray()\n",
    "arr.shape"
   ]
  },
  {
   "cell_type": "markdown",
   "id": "79149b33",
   "metadata": {},
   "source": [
    "As expected, the raster has 1000 rows and 1000 columns, just as the `gdal.Dataset` reported."
   ]
  },
  {
   "cell_type": "code",
   "execution_count": null,
   "id": "ff3e8e5d",
   "metadata": {},
   "outputs": [],
   "source": [
    "from matplotlib import pyplot\n",
    "pyplot.imshow(arr)"
   ]
  },
  {
   "cell_type": "markdown",
   "id": "c02fe8d4",
   "metadata": {},
   "source": [
    "This image shows part of a fire scare in central Alaska. The data values correspond to the surface *albedo,* which describes the fraction of incoming sunlight that is reflected by the Earth's surface. You can see that the fire scar has a much lower albedo, and appears darker, than the unburned areas at the bottom-left and top-right of the image. Two roads cutting through the area also appear brighter.\n",
    "\n",
    "**One important thing to note when we're working with raster data as `numpy` arrays.**\n",
    "\n",
    "- The rows of an array increase from top to bottom. This is different from most spatial coordinates, like latitude.\n",
    "- The columns of an array increase from left to right, which is similar to spatial coordinates like longitude.\n",
    "\n",
    "Therefore, the top-left value of an array is the north-west corner of our image."
   ]
  },
  {
   "cell_type": "code",
   "execution_count": null,
   "id": "fd7dcbc4",
   "metadata": {},
   "outputs": [],
   "source": [
    "arr[0,0]"
   ]
  },
  {
   "cell_type": "markdown",
   "id": "e6740e03",
   "metadata": {},
   "source": [
    "Because these are albedo data, the values fall between zero and one. We can ask `numpy` for the percentiles of the data, e.g., the 0th percentile (minimum), 50th percentile (median), and 100th percentile (maximum)."
   ]
  },
  {
   "cell_type": "code",
   "execution_count": null,
   "id": "9db10b04",
   "metadata": {},
   "outputs": [],
   "source": [
    "import numpy as np\n",
    "\n",
    "np.percentile(arr, (0, 50, 100))"
   ]
  },
  {
   "cell_type": "markdown",
   "id": "a60d9b3f",
   "metadata": {},
   "source": [
    "Because the raster data are a `numpy` array, we can operate on them as if they contain any other kind of data. In addition, we usually don't need to think at all about the spatial coordinate system when we're working with the data."
   ]
  },
  {
   "cell_type": "code",
   "execution_count": null,
   "id": "505f2eef",
   "metadata": {},
   "outputs": [],
   "source": [
    "# Applying a stretch to the data\n",
    "lower, upper = np.percentile(arr, (2, 98))\n",
    "\n",
    "stretch = arr.copy()\n",
    "stretch[stretch < lower] = lower\n",
    "stretch[stretch > upper] = upper\n",
    "pyplot.imshow(stretch)"
   ]
  },
  {
   "cell_type": "markdown",
   "id": "d54b7c07",
   "metadata": {},
   "source": [
    "---"
   ]
  },
  {
   "cell_type": "markdown",
   "id": "8d17d122",
   "metadata": {},
   "source": [
    "## Multispectral Raster Data and Spectral Indices"
   ]
  },
  {
   "cell_type": "markdown",
   "id": "3096cfd0",
   "metadata": {},
   "source": [
    "Multispectral or multi-band imagery can be read in the same way as single-band imagery. [Here, we'll use an ortho-image of the same area as our albedo data, also from NEON.](https://data.neonscience.org/data-products/DP3.30010.001/RELEASE-2022)"
   ]
  },
  {
   "cell_type": "code",
   "execution_count": null,
   "id": "85f24fd5",
   "metadata": {},
   "outputs": [],
   "source": [
    "ds = gdal.Open('http://files.ntsg.umt.edu/data/GIS_Programming/data/NEON_ortho.tif')"
   ]
  },
  {
   "cell_type": "markdown",
   "id": "2b32a99f",
   "metadata": {},
   "source": [
    "If we want to plot the data, however, it's a little different."
   ]
  },
  {
   "cell_type": "code",
   "execution_count": null,
   "id": "42959e30",
   "metadata": {},
   "outputs": [],
   "source": [
    "rgb = ds.ReadAsArray()\n",
    "rgb.shape"
   ]
  },
  {
   "cell_type": "markdown",
   "id": "a2294123",
   "metadata": {},
   "source": [
    "`pyplot.imgshow()` can only plot 2D arrays, using the first and second axes as the row and column coordinates and the value of the array as the grayscale color value."
   ]
  },
  {
   "cell_type": "code",
   "execution_count": null,
   "id": "ad05d9d8",
   "metadata": {},
   "outputs": [],
   "source": [
    "fig = pyplot.figure(figsize = (10, 8))\n",
    "fig.subplots_adjust(wspace = 0.2) # More horizontal space between plots\n",
    "for band in range(0, ds.RasterCount):\n",
    "    # add_subplot(nrows, ncols, index, ...); index must be non-zero so we add 1\n",
    "    ax = fig.add_subplot(1, 3, 1 + band, title = f'Band {band+1}')\n",
    "    ax.imshow(rgb[band])"
   ]
  },
  {
   "cell_type": "markdown",
   "id": "1a2f62b0",
   "metadata": {},
   "source": [
    "---"
   ]
  },
  {
   "cell_type": "markdown",
   "id": "e6fc8e0c",
   "metadata": {},
   "source": [
    "### Challenge: Python Raster Calculator\n",
    "\n",
    "The Normalized Difference Greenness Index (Escadafal & Huete 1991) or NDGI is a variation on the Normalized Difference Vegetation Index (NDVI). It can be calculated when only visible bands (e.g., red, green, blue) are available:\n",
    "\n",
    "$$\n",
    "\\text{NDGI} = \\frac{G - R}{G + R}\n",
    "$$\n",
    "\n",
    "Where $R$ is the Red band value and $G$ is the Green band value.\n",
    "\n",
    "**Calculate the NDGI using this multi-band raster and then plot the resulting image.** The bands of this NEON dataset are, in order: Red, Green, Blue.\n",
    "\n",
    "**NOTE:** Because the above calculation involves a fraction and will return floating-point data, we should first convert our array to a floating-point data type:"
   ]
  },
  {
   "cell_type": "code",
   "execution_count": null,
   "id": "75774239",
   "metadata": {},
   "outputs": [],
   "source": [
    "rgb = rgb.astype(np.float32)"
   ]
  },
  {
   "cell_type": "markdown",
   "id": "a1ae9730-cc14-402b-ab98-0cb8865c17ca",
   "metadata": {},
   "source": [
    "---\n",
    "\n",
    "## Break\n",
    "\n",
    "*10 minute break for learners.*"
   ]
  },
  {
   "cell_type": "markdown",
   "id": "e85cfb34",
   "metadata": {},
   "source": [
    "---\n",
    "\n",
    "## Applying Functions to Axes"
   ]
  },
  {
   "cell_type": "markdown",
   "id": "2f493f8c-41be-4edb-8a34-8133f65aa3e1",
   "metadata": {},
   "source": [
    "Let's switch to a different raster dataset, one that has multiple time periods, where each band in the image is a different time period.\n",
    "\n",
    "We'll continue working with the NOAA NCEP data we saw earlier. In this version, I subset the data to part of North America and calculated an annual average."
   ]
  },
  {
   "cell_type": "code",
   "execution_count": null,
   "id": "5bd332dd",
   "metadata": {},
   "outputs": [],
   "source": [
    "import requests\n",
    "import numpy as np\n",
    "\n",
    "content = requests.get('http://files.ntsg.umt.edu/data/GIS_Programming/data/NOAA_NCEP_CPC_gridded_deg0p5_1948-2022_Africa_74x149x143.float32')\n",
    "data = np.frombuffer(content.content, dtype = np.float32)\\\n",
    "    .reshape((74, 149, 143))"
   ]
  },
  {
   "cell_type": "markdown",
   "id": "48c31f1a-cafe-4a88-994f-6f67950fa452",
   "metadata": {},
   "source": [
    "As a reminder, we can plot the first year (1948) of data by typing:"
   ]
  },
  {
   "cell_type": "code",
   "execution_count": null,
   "id": "f7c2ef14",
   "metadata": {},
   "outputs": [],
   "source": [
    "from matplotlib import pyplot\n",
    "\n",
    "pyplot.imshow(data[0])\n",
    "pyplot.colorbar()"
   ]
  },
  {
   "cell_type": "markdown",
   "id": "99065e70",
   "metadata": {},
   "source": [
    "In our lab this week, we calculated the maximum surface temperature at each pixel, over time, by typing:"
   ]
  },
  {
   "cell_type": "code",
   "execution_count": null,
   "id": "d6a16617",
   "metadata": {},
   "outputs": [],
   "source": [
    "max_temp = data.max(axis = 0)\n",
    "pyplot.imshow(max_temp)"
   ]
  },
  {
   "cell_type": "markdown",
   "id": "104f9e46",
   "metadata": {},
   "source": [
    "Recall that `numpy` arrays have methods like `data.min()` and `data.mean()`, as well, which take axis arguments.\n",
    "\n",
    "**But what if we wanted to calculate something other than the minimum, maximum, mean, or median in surface temperatures over this 74-year period?** There's no obvious way to do this with the tools we already. We need a way of applying a custom function to an array.\n",
    "\n",
    "For situations like this, we can use `numpy.apply_along_axis()`."
   ]
  },
  {
   "cell_type": "code",
   "execution_count": null,
   "id": "0ec78977",
   "metadata": {},
   "outputs": [],
   "source": [
    "max_temp2 = np.apply_along_axis(max, 0, data)\n",
    "pyplot.imshow(max_temp2)"
   ]
  },
  {
   "cell_type": "markdown",
   "id": "6410654a",
   "metadata": {},
   "source": [
    "The arguments to `numpy.apply_along_axis()` are, in order:\n",
    "\n",
    "- The function you want to apply\n",
    "- The axis you want to apply the function over\n",
    "- The array\n",
    "\n",
    "For the second argument, it's helpful to remember how the `axis` argument works, from this diagram:\n",
    "\n",
    "![](./assets/numpy-axis.jpg)\n",
    "\n",
    "**When we write `np.apply_along_axis(max, 0, data)`, we are saying we want the function `max()` to be applied to slices along the 0th axis.** \n",
    "\n",
    "i.e., every time `max()` is called it receives a slice of the 0th axis which, in this case, is the years axis. You can prove this to yourself by trying out:"
   ]
  },
  {
   "cell_type": "code",
   "execution_count": null,
   "id": "85939fd4",
   "metadata": {},
   "outputs": [],
   "source": [
    "np.apply_along_axis(lambda x: x.size, 0, data)"
   ]
  },
  {
   "cell_type": "markdown",
   "id": "ac63319a",
   "metadata": {},
   "source": [
    "We can see from this example that `max()` receives a 74-year time series when it is called. This allows us to summarize interannual data quickly and easily!\n",
    "\n",
    "For instance, where do we see the biggest range in inter-annual temperatures?"
   ]
  },
  {
   "cell_type": "code",
   "execution_count": null,
   "id": "2e1dee83",
   "metadata": {},
   "outputs": [],
   "source": [
    "rng = np.apply_along_axis(lambda x: np.max(x) - np.min(x), 0, data)\n",
    "pyplot.imshow(rng, vmax = 12)\n",
    "pyplot.colorbar()\n",
    "pyplot.show()"
   ]
  },
  {
   "cell_type": "markdown",
   "id": "01900fdd",
   "metadata": {},
   "source": [
    "But clearly, the most interesting thing we could do is to calculate trends."
   ]
  },
  {
   "cell_type": "code",
   "execution_count": null,
   "id": "c4ad3d51",
   "metadata": {},
   "outputs": [],
   "source": [
    "from scipy import stats\n",
    "\n",
    "def linear_trend(array):\n",
    "    # linregress(x, y) takes two arguments: y is regressed on x\n",
    "    result = stats.linregress(np.arange(0, 74), array)\n",
    "    return result[0] # Just the slope\n",
    "\n",
    "trends = np.apply_along_axis(linear_trend, 0, data)"
   ]
  },
  {
   "cell_type": "code",
   "execution_count": null,
   "id": "31e87049",
   "metadata": {},
   "outputs": [],
   "source": [
    "pyplot.imshow(trends)\n",
    "pyplot.colorbar()\n",
    "pyplot.show()"
   ]
  },
  {
   "cell_type": "markdown",
   "id": "78f08351-d5e6-4fae-8103-5c34ef0c2a47",
   "metadata": {},
   "source": [
    "**Both the range and trends maps, above, look a little weird, probably because these gridded temperatures are interpolated from station data, which can be sparse.** If were really interested in extrapolating the range or trend in temperatures, we should probably use a remote-sensing based product, instead. But this works well for educational purposes."
   ]
  },
  {
   "cell_type": "markdown",
   "id": "247a3ef4",
   "metadata": {},
   "source": [
    "---"
   ]
  },
  {
   "cell_type": "markdown",
   "id": "0e3e1d86",
   "metadata": {},
   "source": [
    "## Array Masks and Zonal Statistics"
   ]
  },
  {
   "cell_type": "markdown",
   "id": "71f3a422",
   "metadata": {},
   "source": [
    "We've seen some examples of how raster data can be in Python handled as `numpy` arrays. Arrays come in multiple data types and we often need to handle or combine different types of numbers. For example, an array might be used to represent a categorical value, like a land-cover classification. Categorical data are usually represented by integers. \n",
    "\n",
    "One of the common GIS analysis routines performed on raster data is **zonal statistics,** a statistical summary of a raster's values that fall in different *zones* or spatial regions. Here, we'll use zonal statistics to summarize the amount of soil organic carbon in different global plant communities.\n",
    "\n",
    "The soil organic carbon (SOC) data we'll use come from [the NASA Soil Moisture Active Passive (SMAP) Level 4 Carbon (L4C) product.](https://nsidc.org/data/SPL4CMDL/)"
   ]
  },
  {
   "cell_type": "code",
   "execution_count": null,
   "id": "28e121f4",
   "metadata": {},
   "outputs": [],
   "source": [
    "from osgeo import gdal\n",
    "\n",
    "ds_soc = gdal.Open('http://files.ntsg.umt.edu/data/GIS_Programming/data/SPL4CMDL_Vv6040_20220901_SOC_9km.tiff')\n",
    "soc = ds_soc.ReadAsArray()\n",
    "soc.shape"
   ]
  },
  {
   "cell_type": "code",
   "execution_count": null,
   "id": "39001d5e",
   "metadata": {},
   "outputs": [],
   "source": [
    "pyplot.imshow(soc)"
   ]
  },
  {
   "cell_type": "markdown",
   "id": "64f534c1",
   "metadata": {},
   "source": [
    "**This doesn't look right. What did we forget?**\n",
    "\n",
    "It's always helpful to look at the raw data."
   ]
  },
  {
   "cell_type": "code",
   "execution_count": null,
   "id": "296e33f4",
   "metadata": {},
   "outputs": [],
   "source": [
    "soc"
   ]
  },
  {
   "cell_type": "markdown",
   "id": "a8d1b271",
   "metadata": {},
   "source": [
    "Ah, so we have a bunch of NoData values in our array. Our plotting library doesn't know the difference between the number we use to represent NoData (-9999) and any other number value. Because -9999 is such an extreme value, our plot's colorbar is stretched too thin; we can't make out any variation in the actual data values."
   ]
  },
  {
   "cell_type": "markdown",
   "id": "ebf24f01",
   "metadata": {},
   "source": [
    "### Handling NoData Values\n",
    "\n",
    "Obviously, we need a way of telling our plotting library to ignore NoData values."
   ]
  },
  {
   "cell_type": "code",
   "execution_count": null,
   "id": "a52405d0",
   "metadata": {},
   "outputs": [],
   "source": [
    "soc[soc == -9999] = np.nan"
   ]
  },
  {
   "cell_type": "markdown",
   "id": "e8f7d2c5",
   "metadata": {},
   "source": [
    "We're on the right track, but now we have a problem with `numpy`, because we can't store `np.nan` in an array with an integer data type."
   ]
  },
  {
   "cell_type": "code",
   "execution_count": null,
   "id": "03a16e60",
   "metadata": {},
   "outputs": [],
   "source": [
    "soc = soc.astype(np.float32)\n",
    "soc[soc == -9999] = np.nan\n",
    "\n",
    "pyplot.figure(figsize = (12, 8))\n",
    "pyplot.imshow(soc, vmin = 1000, vmax = 4000)"
   ]
  },
  {
   "cell_type": "markdown",
   "id": "a56f6a98-157c-4cea-8454-20f3c6ad4fc8",
   "metadata": {},
   "source": [
    "If the above image looks blurry or like it has a lot of holes in the data over land, note that you can tell `pyplot` to plot the data differently... Nearest-neighbor interpolation will pick the nearest raster pixel for each pixel on your screen."
   ]
  },
  {
   "cell_type": "code",
   "execution_count": null,
   "id": "5401ead0-638c-49a5-adf5-851ce77bc49f",
   "metadata": {},
   "outputs": [],
   "source": [
    "pyplot.figure(figsize = (12, 8))\n",
    "pyplot.imshow(soc, vmin = 1000, vmax = 4000, interpolation = 'nearest')"
   ]
  },
  {
   "cell_type": "markdown",
   "id": "54eae31d",
   "metadata": {},
   "source": [
    "### Array Masks"
   ]
  },
  {
   "cell_type": "markdown",
   "id": "fbae4b40",
   "metadata": {},
   "source": [
    "Before talk about zonal statistics, we should talk about array masks. \n",
    "\n",
    "As we saw when we converted our NoData values to `np.nan`, we can query `numpy` arrays using conditional expressions like this:"
   ]
  },
  {
   "cell_type": "code",
   "execution_count": null,
   "id": "6e6d5034",
   "metadata": {},
   "outputs": [],
   "source": [
    "soc[soc == -9999]"
   ]
  },
  {
   "cell_type": "code",
   "execution_count": null,
   "id": "5b6e73bf",
   "metadata": {},
   "outputs": [],
   "source": [
    "soc[soc > 4000]"
   ]
  },
  {
   "cell_type": "markdown",
   "id": "9775015d",
   "metadata": {},
   "source": [
    "In these examples, if there is no assignment operator (`=`) on the right-hand side, the values in the array that match the conditional expression are pulled out and printed to the screen.\n",
    "\n",
    "Note that the values are returned in a predictable order but they don't have a specific shape."
   ]
  },
  {
   "cell_type": "code",
   "execution_count": null,
   "id": "3917189b",
   "metadata": {},
   "outputs": [],
   "source": [
    "soc[soc > 4000].shape"
   ]
  },
  {
   "cell_type": "markdown",
   "id": "d644bbda",
   "metadata": {},
   "source": [
    "Here, there are over 65,000 SOC values greater than 4000 grams of carbon per meter squared... But we got all of the values as a 1D array.\n",
    "\n",
    "Sometimes, the position of certain values within an array is important. In such cases, we actually want to take the conditional expression out of the slicing `[]` notation and use it to create a boolean array:"
   ]
  },
  {
   "cell_type": "code",
   "execution_count": null,
   "id": "8cd38c89",
   "metadata": {},
   "outputs": [],
   "source": [
    "high_soc = soc > 4000\n",
    "high_soc"
   ]
  },
  {
   "cell_type": "code",
   "execution_count": null,
   "id": "223a4357",
   "metadata": {},
   "outputs": [],
   "source": [
    "high_soc.shape == soc.shape"
   ]
  },
  {
   "cell_type": "markdown",
   "id": "edbb49e7",
   "metadata": {},
   "source": [
    "**These kinds of arrays can be called array masks or masking arrays,** because they can be used to mask out or filter an array's contents. You'll use these kinds of conditional expressions frequently, often in combination with `np.where` or `np.argwhere`."
   ]
  },
  {
   "cell_type": "code",
   "execution_count": null,
   "id": "ae8b4fee",
   "metadata": {},
   "outputs": [],
   "source": [
    "pyplot.figure(figsize = (10, 8))\n",
    "pyplot.imshow(np.where(soc > 2000, soc, np.nan))"
   ]
  },
  {
   "cell_type": "markdown",
   "id": "ae8cb87d",
   "metadata": {},
   "source": [
    "[You should know that `numpy` has support for something called a *masked array.*](https://numpy.org/doc/stable/reference/maskedarray.html). However, NumPy masked arrays can be slow to work with, especially when the array size is large, so I would recommend you avoid them. Once you're comfortable with `numpy` functions like `np.where()` and with boolean arrays, you'll never need NumPy masked arrays."
   ]
  },
  {
   "cell_type": "markdown",
   "id": "a6fda18e",
   "metadata": {},
   "source": [
    "---"
   ]
  },
  {
   "cell_type": "markdown",
   "id": "911bc143",
   "metadata": {},
   "source": [
    "## More Resources\n",
    "\n",
    "- GIS&T Body of Knowledge: [Python for GIS](https://gistbok.ucgis.org/bok-topics/python-gis)\n",
    "- GIS&T Body of Knowledge: [GDAL/OGR and Geospatial Data IO Libraries](https://gistbok.ucgis.org/bok-topics/gdalogr-and-geospatial-data-io-libraries)\n",
    "- [GDAL Python API documentation](https://gdal.org/api/python/osgeo.gdal.html)\n",
    "- [GDAL-OGR Cookbook](https://pcjericks.github.io/py-gdalogr-cookbook/index.html)"
   ]
  }
 ],
 "metadata": {
  "kernelspec": {
   "display_name": "Python 3 (ipykernel)",
   "language": "python",
   "name": "python3"
  },
  "language_info": {
   "codemirror_mode": {
    "name": "ipython",
    "version": 3
   },
   "file_extension": ".py",
   "mimetype": "text/x-python",
   "name": "python",
   "nbconvert_exporter": "python",
   "pygments_lexer": "ipython3",
   "version": "3.8.10"
  }
 },
 "nbformat": 4,
 "nbformat_minor": 5
}
